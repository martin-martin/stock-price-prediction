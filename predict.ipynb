{
 "cells": [
  {
   "cell_type": "markdown",
   "metadata": {},
   "source": [
    "# Stock price prediction"
   ]
  },
  {
   "cell_type": "code",
   "execution_count": 62,
   "metadata": {
    "scrolled": true
   },
   "outputs": [],
   "source": [
    "import math\n",
    "import time\n",
    "import pandas as pd\n",
    "import sklearn\n",
    "import datetime\n",
    "import matplotlib as mpl\n",
    "import matplotlib.pyplot as plt\n",
    "from matplotlib import style\n",
    "import seaborn as seabornInstance\n",
    "from sklearn.model_selection import train_test_split \n",
    "from sklearn.linear_model import LinearRegression\n",
    "from sklearn import metrics"
   ]
  },
  {
   "cell_type": "code",
   "execution_count": 35,
   "metadata": {},
   "outputs": [],
   "source": [
    "# Adjusting the size of matplotlib\n",
    "mpl.rc('figure', figsize=(8, 15))\n",
    "mpl.__version__\n",
    "\n",
    "# Adjusting the style of matplotlib\n",
    "style.use('ggplot')\n",
    "\n",
    "# Displaying plots right in the notebook\n",
    "%matplotlib inline"
   ]
  },
  {
   "cell_type": "code",
   "execution_count": 2,
   "metadata": {},
   "outputs": [],
   "source": [
    "raw_df = pd.read_csv('SCAM.L.csv')  # gotta love that ticker name! ;P"
   ]
  },
  {
   "cell_type": "code",
   "execution_count": 3,
   "metadata": {
    "scrolled": true
   },
   "outputs": [
    {
     "data": {
      "text/html": [
       "<div>\n",
       "<style scoped>\n",
       "    .dataframe tbody tr th:only-of-type {\n",
       "        vertical-align: middle;\n",
       "    }\n",
       "\n",
       "    .dataframe tbody tr th {\n",
       "        vertical-align: top;\n",
       "    }\n",
       "\n",
       "    .dataframe thead th {\n",
       "        text-align: right;\n",
       "    }\n",
       "</style>\n",
       "<table border=\"1\" class=\"dataframe\">\n",
       "  <thead>\n",
       "    <tr style=\"text-align: right;\">\n",
       "      <th></th>\n",
       "      <th>Date</th>\n",
       "      <th>Open</th>\n",
       "      <th>High</th>\n",
       "      <th>Low</th>\n",
       "      <th>Close</th>\n",
       "      <th>Adj Close</th>\n",
       "      <th>Volume</th>\n",
       "    </tr>\n",
       "  </thead>\n",
       "  <tbody>\n",
       "    <tr>\n",
       "      <td>0</td>\n",
       "      <td>2014-09-02</td>\n",
       "      <td>244.0</td>\n",
       "      <td>246.000000</td>\n",
       "      <td>243.500000</td>\n",
       "      <td>244.75</td>\n",
       "      <td>242.844986</td>\n",
       "      <td>105487</td>\n",
       "    </tr>\n",
       "    <tr>\n",
       "      <td>1</td>\n",
       "      <td>2014-09-03</td>\n",
       "      <td>245.5</td>\n",
       "      <td>247.770004</td>\n",
       "      <td>244.873001</td>\n",
       "      <td>245.00</td>\n",
       "      <td>243.093033</td>\n",
       "      <td>109929</td>\n",
       "    </tr>\n",
       "    <tr>\n",
       "      <td>2</td>\n",
       "      <td>2014-09-04</td>\n",
       "      <td>247.0</td>\n",
       "      <td>248.278000</td>\n",
       "      <td>245.875000</td>\n",
       "      <td>246.50</td>\n",
       "      <td>244.581360</td>\n",
       "      <td>86113</td>\n",
       "    </tr>\n",
       "    <tr>\n",
       "      <td>3</td>\n",
       "      <td>2014-09-05</td>\n",
       "      <td>246.5</td>\n",
       "      <td>247.917999</td>\n",
       "      <td>244.750000</td>\n",
       "      <td>245.25</td>\n",
       "      <td>243.341064</td>\n",
       "      <td>92304</td>\n",
       "    </tr>\n",
       "    <tr>\n",
       "      <td>4</td>\n",
       "      <td>2014-09-08</td>\n",
       "      <td>247.0</td>\n",
       "      <td>247.000000</td>\n",
       "      <td>244.500000</td>\n",
       "      <td>244.50</td>\n",
       "      <td>242.596924</td>\n",
       "      <td>127314</td>\n",
       "    </tr>\n",
       "  </tbody>\n",
       "</table>\n",
       "</div>"
      ],
      "text/plain": [
       "         Date   Open        High         Low   Close   Adj Close  Volume\n",
       "0  2014-09-02  244.0  246.000000  243.500000  244.75  242.844986  105487\n",
       "1  2014-09-03  245.5  247.770004  244.873001  245.00  243.093033  109929\n",
       "2  2014-09-04  247.0  248.278000  245.875000  246.50  244.581360   86113\n",
       "3  2014-09-05  246.5  247.917999  244.750000  245.25  243.341064   92304\n",
       "4  2014-09-08  247.0  247.000000  244.500000  244.50  242.596924  127314"
      ]
     },
     "execution_count": 3,
     "metadata": {},
     "output_type": "execute_result"
    }
   ],
   "source": [
    "raw_df.head()"
   ]
  },
  {
   "cell_type": "code",
   "execution_count": 4,
   "metadata": {},
   "outputs": [
    {
     "data": {
      "text/plain": [
       "(1265, 7)"
      ]
     },
     "execution_count": 4,
     "metadata": {},
     "output_type": "execute_result"
    }
   ],
   "source": [
    "raw_df.shape"
   ]
  },
  {
   "cell_type": "code",
   "execution_count": 5,
   "metadata": {},
   "outputs": [
    {
     "data": {
      "text/html": [
       "<div>\n",
       "<style scoped>\n",
       "    .dataframe tbody tr th:only-of-type {\n",
       "        vertical-align: middle;\n",
       "    }\n",
       "\n",
       "    .dataframe tbody tr th {\n",
       "        vertical-align: top;\n",
       "    }\n",
       "\n",
       "    .dataframe thead th {\n",
       "        text-align: right;\n",
       "    }\n",
       "</style>\n",
       "<table border=\"1\" class=\"dataframe\">\n",
       "  <thead>\n",
       "    <tr style=\"text-align: right;\">\n",
       "      <th></th>\n",
       "      <th>Open</th>\n",
       "      <th>High</th>\n",
       "      <th>Low</th>\n",
       "      <th>Close</th>\n",
       "      <th>Adj Close</th>\n",
       "      <th>Volume</th>\n",
       "    </tr>\n",
       "  </thead>\n",
       "  <tbody>\n",
       "    <tr>\n",
       "      <td>count</td>\n",
       "      <td>1265.000000</td>\n",
       "      <td>1265.000000</td>\n",
       "      <td>1265.000000</td>\n",
       "      <td>1265.000000</td>\n",
       "      <td>1265.000000</td>\n",
       "      <td>1265.000000</td>\n",
       "    </tr>\n",
       "    <tr>\n",
       "      <td>mean</td>\n",
       "      <td>304.315845</td>\n",
       "      <td>305.975195</td>\n",
       "      <td>302.393086</td>\n",
       "      <td>303.988092</td>\n",
       "      <td>301.637798</td>\n",
       "      <td>84415.116206</td>\n",
       "    </tr>\n",
       "    <tr>\n",
       "      <td>std</td>\n",
       "      <td>79.167592</td>\n",
       "      <td>79.304194</td>\n",
       "      <td>78.908577</td>\n",
       "      <td>79.102113</td>\n",
       "      <td>78.502367</td>\n",
       "      <td>59964.535939</td>\n",
       "    </tr>\n",
       "    <tr>\n",
       "      <td>min</td>\n",
       "      <td>3.733000</td>\n",
       "      <td>3.733000</td>\n",
       "      <td>3.733000</td>\n",
       "      <td>3.733000</td>\n",
       "      <td>3.705086</td>\n",
       "      <td>0.000000</td>\n",
       "    </tr>\n",
       "    <tr>\n",
       "      <td>25%</td>\n",
       "      <td>256.000000</td>\n",
       "      <td>257.217987</td>\n",
       "      <td>253.824997</td>\n",
       "      <td>255.000000</td>\n",
       "      <td>253.015182</td>\n",
       "      <td>51536.000000</td>\n",
       "    </tr>\n",
       "    <tr>\n",
       "      <td>50%</td>\n",
       "      <td>318.750000</td>\n",
       "      <td>320.839996</td>\n",
       "      <td>316.250000</td>\n",
       "      <td>317.500000</td>\n",
       "      <td>315.028748</td>\n",
       "      <td>71965.000000</td>\n",
       "    </tr>\n",
       "    <tr>\n",
       "      <td>75%</td>\n",
       "      <td>365.000000</td>\n",
       "      <td>366.000000</td>\n",
       "      <td>363.000000</td>\n",
       "      <td>364.000000</td>\n",
       "      <td>361.222809</td>\n",
       "      <td>102925.000000</td>\n",
       "    </tr>\n",
       "    <tr>\n",
       "      <td>max</td>\n",
       "      <td>426.908997</td>\n",
       "      <td>426.908997</td>\n",
       "      <td>424.980011</td>\n",
       "      <td>425.000000</td>\n",
       "      <td>421.821991</td>\n",
       "      <td>676484.000000</td>\n",
       "    </tr>\n",
       "  </tbody>\n",
       "</table>\n",
       "</div>"
      ],
      "text/plain": [
       "              Open         High          Low        Close    Adj Close  \\\n",
       "count  1265.000000  1265.000000  1265.000000  1265.000000  1265.000000   \n",
       "mean    304.315845   305.975195   302.393086   303.988092   301.637798   \n",
       "std      79.167592    79.304194    78.908577    79.102113    78.502367   \n",
       "min       3.733000     3.733000     3.733000     3.733000     3.705086   \n",
       "25%     256.000000   257.217987   253.824997   255.000000   253.015182   \n",
       "50%     318.750000   320.839996   316.250000   317.500000   315.028748   \n",
       "75%     365.000000   366.000000   363.000000   364.000000   361.222809   \n",
       "max     426.908997   426.908997   424.980011   425.000000   421.821991   \n",
       "\n",
       "              Volume  \n",
       "count    1265.000000  \n",
       "mean    84415.116206  \n",
       "std     59964.535939  \n",
       "min         0.000000  \n",
       "25%     51536.000000  \n",
       "50%     71965.000000  \n",
       "75%    102925.000000  \n",
       "max    676484.000000  "
      ]
     },
     "execution_count": 5,
     "metadata": {},
     "output_type": "execute_result"
    }
   ],
   "source": [
    "raw_df.describe()"
   ]
  },
  {
   "cell_type": "code",
   "execution_count": 6,
   "metadata": {},
   "outputs": [
    {
     "data": {
      "image/png": "[encoded data removed]",
      "text/plain": [
       "<Figure size 432x288 with 1 Axes>"
      ]
     },
     "metadata": {
      "needs_background": "light"
     },
     "output_type": "display_data"
    }
   ],
   "source": [
    "raw_df.plot(x='High', y='Volume', style='o')  \n",
    "plt.title('High vs Volume')  \n",
    "plt.xlabel('High')  \n",
    "plt.ylabel('Volume')  \n",
    "plt.show()"
   ]
  },
  {
   "cell_type": "code",
   "execution_count": 7,
   "metadata": {},
   "outputs": [],
   "source": [
    "no_vol = raw_df[raw_df.Volume == 0]"
   ]
  },
  {
   "cell_type": "code",
   "execution_count": 8,
   "metadata": {},
   "outputs": [
    {
     "data": {
      "text/plain": [
       "48"
      ]
     },
     "execution_count": 8,
     "metadata": {},
     "output_type": "execute_result"
    }
   ],
   "source": [
    "len(no_vol)"
   ]
  },
  {
   "cell_type": "code",
   "execution_count": 9,
   "metadata": {},
   "outputs": [],
   "source": [
    "df = raw_df.drop(no_vol.index, axis=0, inplace=False)"
   ]
  },
  {
   "cell_type": "code",
   "execution_count": 10,
   "metadata": {},
   "outputs": [
    {
     "data": {
      "text/html": [
       "<div>\n",
       "<style scoped>\n",
       "    .dataframe tbody tr th:only-of-type {\n",
       "        vertical-align: middle;\n",
       "    }\n",
       "\n",
       "    .dataframe tbody tr th {\n",
       "        vertical-align: top;\n",
       "    }\n",
       "\n",
       "    .dataframe thead th {\n",
       "        text-align: right;\n",
       "    }\n",
       "</style>\n",
       "<table border=\"1\" class=\"dataframe\">\n",
       "  <thead>\n",
       "    <tr style=\"text-align: right;\">\n",
       "      <th></th>\n",
       "      <th>Date</th>\n",
       "      <th>Open</th>\n",
       "      <th>High</th>\n",
       "      <th>Low</th>\n",
       "      <th>Close</th>\n",
       "      <th>Adj Close</th>\n",
       "      <th>Volume</th>\n",
       "    </tr>\n",
       "  </thead>\n",
       "  <tbody>\n",
       "    <tr>\n",
       "      <td>0</td>\n",
       "      <td>2014-09-02</td>\n",
       "      <td>244.0</td>\n",
       "      <td>246.000000</td>\n",
       "      <td>243.500000</td>\n",
       "      <td>244.75</td>\n",
       "      <td>242.844986</td>\n",
       "      <td>105487</td>\n",
       "    </tr>\n",
       "    <tr>\n",
       "      <td>1</td>\n",
       "      <td>2014-09-03</td>\n",
       "      <td>245.5</td>\n",
       "      <td>247.770004</td>\n",
       "      <td>244.873001</td>\n",
       "      <td>245.00</td>\n",
       "      <td>243.093033</td>\n",
       "      <td>109929</td>\n",
       "    </tr>\n",
       "    <tr>\n",
       "      <td>2</td>\n",
       "      <td>2014-09-04</td>\n",
       "      <td>247.0</td>\n",
       "      <td>248.278000</td>\n",
       "      <td>245.875000</td>\n",
       "      <td>246.50</td>\n",
       "      <td>244.581360</td>\n",
       "      <td>86113</td>\n",
       "    </tr>\n",
       "    <tr>\n",
       "      <td>3</td>\n",
       "      <td>2014-09-05</td>\n",
       "      <td>246.5</td>\n",
       "      <td>247.917999</td>\n",
       "      <td>244.750000</td>\n",
       "      <td>245.25</td>\n",
       "      <td>243.341064</td>\n",
       "      <td>92304</td>\n",
       "    </tr>\n",
       "    <tr>\n",
       "      <td>4</td>\n",
       "      <td>2014-09-08</td>\n",
       "      <td>247.0</td>\n",
       "      <td>247.000000</td>\n",
       "      <td>244.500000</td>\n",
       "      <td>244.50</td>\n",
       "      <td>242.596924</td>\n",
       "      <td>127314</td>\n",
       "    </tr>\n",
       "  </tbody>\n",
       "</table>\n",
       "</div>"
      ],
      "text/plain": [
       "         Date   Open        High         Low   Close   Adj Close  Volume\n",
       "0  2014-09-02  244.0  246.000000  243.500000  244.75  242.844986  105487\n",
       "1  2014-09-03  245.5  247.770004  244.873001  245.00  243.093033  109929\n",
       "2  2014-09-04  247.0  248.278000  245.875000  246.50  244.581360   86113\n",
       "3  2014-09-05  246.5  247.917999  244.750000  245.25  243.341064   92304\n",
       "4  2014-09-08  247.0  247.000000  244.500000  244.50  242.596924  127314"
      ]
     },
     "execution_count": 10,
     "metadata": {},
     "output_type": "execute_result"
    }
   ],
   "source": [
    "df.head()"
   ]
  },
  {
   "cell_type": "code",
   "execution_count": 11,
   "metadata": {},
   "outputs": [
    {
     "data": {
      "image/png": "[encoded data removed]",
      "text/plain": [
       "<Figure size 432x288 with 1 Axes>"
      ]
     },
     "metadata": {
      "needs_background": "light"
     },
     "output_type": "display_data"
    }
   ],
   "source": [
    "df.plot(x='High', y='Volume', style='o')  \n",
    "plt.title('High vs Volume')  \n",
    "plt.xlabel('High')  \n",
    "plt.ylabel('Volume')  \n",
    "plt.show()"
   ]
  },
  {
   "cell_type": "code",
   "execution_count": 12,
   "metadata": {},
   "outputs": [
    {
     "data": {
      "text/plain": [
       "<matplotlib.axes._subplots.AxesSubplot at 0x1171a14d0>"
      ]
     },
     "execution_count": 12,
     "metadata": {},
     "output_type": "execute_result"
    },
    {
     "data": {
      "image/png": "[encoded data removed]",
      "text/plain": [
       "<Figure size 1080x720 with 1 Axes>"
      ]
     },
     "metadata": {
      "needs_background": "light"
     },
     "output_type": "display_data"
    }
   ],
   "source": [
    "plt.figure(figsize=(15,10))\n",
    "plt.tight_layout()\n",
    "seabornInstance.distplot(df['High'])"
   ]
  },
  {
   "cell_type": "code",
   "execution_count": 13,
   "metadata": {},
   "outputs": [
    {
     "data": {
      "text/plain": [
       "<matplotlib.axes._subplots.AxesSubplot at 0x11959fa90>"
      ]
     },
     "execution_count": 13,
     "metadata": {},
     "output_type": "execute_result"
    },
    {
     "data": {
      "image/png": "[encoded data removed]",
      "text/plain": [
       "<Figure size 1080x720 with 1 Axes>"
      ]
     },
     "metadata": {
      "needs_background": "light"
     },
     "output_type": "display_data"
    }
   ],
   "source": [
    "plt.figure(figsize=(15,10))\n",
    "plt.tight_layout()\n",
    "seabornInstance.distplot(df['Volume'])"
   ]
  },
  {
   "cell_type": "code",
   "execution_count": 14,
   "metadata": {},
   "outputs": [
    {
     "data": {
      "text/html": [
       "<div>\n",
       "<style scoped>\n",
       "    .dataframe tbody tr th:only-of-type {\n",
       "        vertical-align: middle;\n",
       "    }\n",
       "\n",
       "    .dataframe tbody tr th {\n",
       "        vertical-align: top;\n",
       "    }\n",
       "\n",
       "    .dataframe thead th {\n",
       "        text-align: right;\n",
       "    }\n",
       "</style>\n",
       "<table border=\"1\" class=\"dataframe\">\n",
       "  <thead>\n",
       "    <tr style=\"text-align: right;\">\n",
       "      <th></th>\n",
       "      <th>Date</th>\n",
       "      <th>Open</th>\n",
       "      <th>High</th>\n",
       "      <th>Low</th>\n",
       "      <th>Close</th>\n",
       "      <th>Adj Close</th>\n",
       "      <th>Volume</th>\n",
       "    </tr>\n",
       "  </thead>\n",
       "  <tbody>\n",
       "    <tr>\n",
       "      <td>817</td>\n",
       "      <td>2017-11-22</td>\n",
       "      <td>368.7500</td>\n",
       "      <td>368.7500</td>\n",
       "      <td>368.7500</td>\n",
       "      <td>368.7500</td>\n",
       "      <td>365.879791</td>\n",
       "      <td>0</td>\n",
       "    </tr>\n",
       "    <tr>\n",
       "      <td>1201</td>\n",
       "      <td>2019-06-04</td>\n",
       "      <td>3.7330</td>\n",
       "      <td>3.7330</td>\n",
       "      <td>3.7330</td>\n",
       "      <td>3.7330</td>\n",
       "      <td>3.705086</td>\n",
       "      <td>0</td>\n",
       "    </tr>\n",
       "    <tr>\n",
       "      <td>1202</td>\n",
       "      <td>2019-06-05</td>\n",
       "      <td>3.7448</td>\n",
       "      <td>3.7448</td>\n",
       "      <td>3.7448</td>\n",
       "      <td>3.7448</td>\n",
       "      <td>3.716798</td>\n",
       "      <td>0</td>\n",
       "    </tr>\n",
       "    <tr>\n",
       "      <td>1203</td>\n",
       "      <td>2019-06-06</td>\n",
       "      <td>3.7659</td>\n",
       "      <td>3.7659</td>\n",
       "      <td>3.7659</td>\n",
       "      <td>3.7659</td>\n",
       "      <td>3.737740</td>\n",
       "      <td>0</td>\n",
       "    </tr>\n",
       "    <tr>\n",
       "      <td>1214</td>\n",
       "      <td>2019-06-21</td>\n",
       "      <td>3.9139</td>\n",
       "      <td>3.9139</td>\n",
       "      <td>3.9139</td>\n",
       "      <td>3.9139</td>\n",
       "      <td>3.884633</td>\n",
       "      <td>0</td>\n",
       "    </tr>\n",
       "    <tr>\n",
       "      <td>1215</td>\n",
       "      <td>2019-06-24</td>\n",
       "      <td>3.9182</td>\n",
       "      <td>3.9182</td>\n",
       "      <td>3.9182</td>\n",
       "      <td>3.9182</td>\n",
       "      <td>3.888901</td>\n",
       "      <td>0</td>\n",
       "    </tr>\n",
       "    <tr>\n",
       "      <td>1217</td>\n",
       "      <td>2019-06-26</td>\n",
       "      <td>3.8994</td>\n",
       "      <td>3.8994</td>\n",
       "      <td>3.8994</td>\n",
       "      <td>3.8994</td>\n",
       "      <td>3.870242</td>\n",
       "      <td>0</td>\n",
       "    </tr>\n",
       "    <tr>\n",
       "      <td>1218</td>\n",
       "      <td>2019-06-27</td>\n",
       "      <td>3.9066</td>\n",
       "      <td>3.9066</td>\n",
       "      <td>3.9066</td>\n",
       "      <td>3.9066</td>\n",
       "      <td>3.877388</td>\n",
       "      <td>0</td>\n",
       "    </tr>\n",
       "    <tr>\n",
       "      <td>1220</td>\n",
       "      <td>2019-07-01</td>\n",
       "      <td>3.9596</td>\n",
       "      <td>3.9596</td>\n",
       "      <td>3.9596</td>\n",
       "      <td>3.9596</td>\n",
       "      <td>3.929991</td>\n",
       "      <td>0</td>\n",
       "    </tr>\n",
       "    <tr>\n",
       "      <td>1221</td>\n",
       "      <td>2019-07-02</td>\n",
       "      <td>3.9856</td>\n",
       "      <td>3.9856</td>\n",
       "      <td>3.9856</td>\n",
       "      <td>3.9856</td>\n",
       "      <td>3.955797</td>\n",
       "      <td>0</td>\n",
       "    </tr>\n",
       "    <tr>\n",
       "      <td>1222</td>\n",
       "      <td>2019-07-03</td>\n",
       "      <td>4.0190</td>\n",
       "      <td>4.0190</td>\n",
       "      <td>4.0190</td>\n",
       "      <td>4.0190</td>\n",
       "      <td>3.988947</td>\n",
       "      <td>0</td>\n",
       "    </tr>\n",
       "    <tr>\n",
       "      <td>1223</td>\n",
       "      <td>2019-07-04</td>\n",
       "      <td>4.0256</td>\n",
       "      <td>4.0256</td>\n",
       "      <td>4.0256</td>\n",
       "      <td>4.0256</td>\n",
       "      <td>3.995498</td>\n",
       "      <td>0</td>\n",
       "    </tr>\n",
       "    <tr>\n",
       "      <td>1224</td>\n",
       "      <td>2019-07-05</td>\n",
       "      <td>4.0099</td>\n",
       "      <td>4.0099</td>\n",
       "      <td>4.0099</td>\n",
       "      <td>4.0099</td>\n",
       "      <td>3.979915</td>\n",
       "      <td>0</td>\n",
       "    </tr>\n",
       "    <tr>\n",
       "      <td>1225</td>\n",
       "      <td>2019-07-08</td>\n",
       "      <td>3.9930</td>\n",
       "      <td>3.9930</td>\n",
       "      <td>3.9930</td>\n",
       "      <td>3.9930</td>\n",
       "      <td>3.963142</td>\n",
       "      <td>0</td>\n",
       "    </tr>\n",
       "    <tr>\n",
       "      <td>1226</td>\n",
       "      <td>2019-07-09</td>\n",
       "      <td>3.9967</td>\n",
       "      <td>3.9967</td>\n",
       "      <td>3.9967</td>\n",
       "      <td>3.9967</td>\n",
       "      <td>3.966814</td>\n",
       "      <td>0</td>\n",
       "    </tr>\n",
       "    <tr>\n",
       "      <td>1227</td>\n",
       "      <td>2019-07-10</td>\n",
       "      <td>4.0044</td>\n",
       "      <td>4.0044</td>\n",
       "      <td>4.0044</td>\n",
       "      <td>4.0044</td>\n",
       "      <td>3.974456</td>\n",
       "      <td>0</td>\n",
       "    </tr>\n",
       "    <tr>\n",
       "      <td>1228</td>\n",
       "      <td>2019-07-11</td>\n",
       "      <td>3.9909</td>\n",
       "      <td>3.9909</td>\n",
       "      <td>3.9909</td>\n",
       "      <td>3.9909</td>\n",
       "      <td>3.961057</td>\n",
       "      <td>0</td>\n",
       "    </tr>\n",
       "    <tr>\n",
       "      <td>1229</td>\n",
       "      <td>2019-07-12</td>\n",
       "      <td>3.9889</td>\n",
       "      <td>3.9889</td>\n",
       "      <td>3.9889</td>\n",
       "      <td>3.9889</td>\n",
       "      <td>3.959072</td>\n",
       "      <td>0</td>\n",
       "    </tr>\n",
       "    <tr>\n",
       "      <td>1230</td>\n",
       "      <td>2019-07-15</td>\n",
       "      <td>4.0176</td>\n",
       "      <td>4.0176</td>\n",
       "      <td>4.0176</td>\n",
       "      <td>4.0176</td>\n",
       "      <td>3.987558</td>\n",
       "      <td>0</td>\n",
       "    </tr>\n",
       "    <tr>\n",
       "      <td>1231</td>\n",
       "      <td>2019-07-16</td>\n",
       "      <td>4.0495</td>\n",
       "      <td>4.0495</td>\n",
       "      <td>4.0495</td>\n",
       "      <td>4.0495</td>\n",
       "      <td>4.019219</td>\n",
       "      <td>0</td>\n",
       "    </tr>\n",
       "  </tbody>\n",
       "</table>\n",
       "</div>"
      ],
      "text/plain": [
       "            Date      Open      High       Low     Close   Adj Close  Volume\n",
       "817   2017-11-22  368.7500  368.7500  368.7500  368.7500  365.879791       0\n",
       "1201  2019-06-04    3.7330    3.7330    3.7330    3.7330    3.705086       0\n",
       "1202  2019-06-05    3.7448    3.7448    3.7448    3.7448    3.716798       0\n",
       "1203  2019-06-06    3.7659    3.7659    3.7659    3.7659    3.737740       0\n",
       "1214  2019-06-21    3.9139    3.9139    3.9139    3.9139    3.884633       0\n",
       "1215  2019-06-24    3.9182    3.9182    3.9182    3.9182    3.888901       0\n",
       "1217  2019-06-26    3.8994    3.8994    3.8994    3.8994    3.870242       0\n",
       "1218  2019-06-27    3.9066    3.9066    3.9066    3.9066    3.877388       0\n",
       "1220  2019-07-01    3.9596    3.9596    3.9596    3.9596    3.929991       0\n",
       "1221  2019-07-02    3.9856    3.9856    3.9856    3.9856    3.955797       0\n",
       "1222  2019-07-03    4.0190    4.0190    4.0190    4.0190    3.988947       0\n",
       "1223  2019-07-04    4.0256    4.0256    4.0256    4.0256    3.995498       0\n",
       "1224  2019-07-05    4.0099    4.0099    4.0099    4.0099    3.979915       0\n",
       "1225  2019-07-08    3.9930    3.9930    3.9930    3.9930    3.963142       0\n",
       "1226  2019-07-09    3.9967    3.9967    3.9967    3.9967    3.966814       0\n",
       "1227  2019-07-10    4.0044    4.0044    4.0044    4.0044    3.974456       0\n",
       "1228  2019-07-11    3.9909    3.9909    3.9909    3.9909    3.961057       0\n",
       "1229  2019-07-12    3.9889    3.9889    3.9889    3.9889    3.959072       0\n",
       "1230  2019-07-15    4.0176    4.0176    4.0176    4.0176    3.987558       0\n",
       "1231  2019-07-16    4.0495    4.0495    4.0495    4.0495    4.019219       0"
      ]
     },
     "execution_count": 14,
     "metadata": {},
     "output_type": "execute_result"
    }
   ],
   "source": [
    "no_vol.head(20)"
   ]
  },
  {
   "cell_type": "markdown",
   "metadata": {},
   "source": [
    "# Let's get this done"
   ]
  },
  {
   "cell_type": "code",
   "execution_count": 15,
   "metadata": {
    "scrolled": true
   },
   "outputs": [
    {
     "data": {
      "text/html": [
       "<div>\n",
       "<style scoped>\n",
       "    .dataframe tbody tr th:only-of-type {\n",
       "        vertical-align: middle;\n",
       "    }\n",
       "\n",
       "    .dataframe tbody tr th {\n",
       "        vertical-align: top;\n",
       "    }\n",
       "\n",
       "    .dataframe thead th {\n",
       "        text-align: right;\n",
       "    }\n",
       "</style>\n",
       "<table border=\"1\" class=\"dataframe\">\n",
       "  <thead>\n",
       "    <tr style=\"text-align: right;\">\n",
       "      <th></th>\n",
       "      <th>Open</th>\n",
       "      <th>High</th>\n",
       "      <th>Low</th>\n",
       "      <th>Close</th>\n",
       "      <th>Adj Close</th>\n",
       "      <th>Volume</th>\n",
       "    </tr>\n",
       "    <tr>\n",
       "      <th>Date</th>\n",
       "      <th></th>\n",
       "      <th></th>\n",
       "      <th></th>\n",
       "      <th></th>\n",
       "      <th></th>\n",
       "      <th></th>\n",
       "    </tr>\n",
       "  </thead>\n",
       "  <tbody>\n",
       "    <tr>\n",
       "      <td>2014-09-02</td>\n",
       "      <td>244.0</td>\n",
       "      <td>246.000000</td>\n",
       "      <td>243.500000</td>\n",
       "      <td>244.75</td>\n",
       "      <td>242.844986</td>\n",
       "      <td>105487</td>\n",
       "    </tr>\n",
       "    <tr>\n",
       "      <td>2014-09-03</td>\n",
       "      <td>245.5</td>\n",
       "      <td>247.770004</td>\n",
       "      <td>244.873001</td>\n",
       "      <td>245.00</td>\n",
       "      <td>243.093033</td>\n",
       "      <td>109929</td>\n",
       "    </tr>\n",
       "    <tr>\n",
       "      <td>2014-09-04</td>\n",
       "      <td>247.0</td>\n",
       "      <td>248.278000</td>\n",
       "      <td>245.875000</td>\n",
       "      <td>246.50</td>\n",
       "      <td>244.581360</td>\n",
       "      <td>86113</td>\n",
       "    </tr>\n",
       "    <tr>\n",
       "      <td>2014-09-05</td>\n",
       "      <td>246.5</td>\n",
       "      <td>247.917999</td>\n",
       "      <td>244.750000</td>\n",
       "      <td>245.25</td>\n",
       "      <td>243.341064</td>\n",
       "      <td>92304</td>\n",
       "    </tr>\n",
       "    <tr>\n",
       "      <td>2014-09-08</td>\n",
       "      <td>247.0</td>\n",
       "      <td>247.000000</td>\n",
       "      <td>244.500000</td>\n",
       "      <td>244.50</td>\n",
       "      <td>242.596924</td>\n",
       "      <td>127314</td>\n",
       "    </tr>\n",
       "  </tbody>\n",
       "</table>\n",
       "</div>"
      ],
      "text/plain": [
       "             Open        High         Low   Close   Adj Close  Volume\n",
       "Date                                                                 \n",
       "2014-09-02  244.0  246.000000  243.500000  244.75  242.844986  105487\n",
       "2014-09-03  245.5  247.770004  244.873001  245.00  243.093033  109929\n",
       "2014-09-04  247.0  248.278000  245.875000  246.50  244.581360   86113\n",
       "2014-09-05  246.5  247.917999  244.750000  245.25  243.341064   92304\n",
       "2014-09-08  247.0  247.000000  244.500000  244.50  242.596924  127314"
      ]
     },
     "execution_count": 15,
     "metadata": {},
     "output_type": "execute_result"
    }
   ],
   "source": [
    "raw_df.set_index('Date', inplace=True)\n",
    "raw_df.head(5)"
   ]
  },
  {
   "cell_type": "code",
   "execution_count": 16,
   "metadata": {},
   "outputs": [
    {
     "data": {
      "text/plain": [
       "<matplotlib.axes._subplots.AxesSubplot at 0x11959f410>"
      ]
     },
     "execution_count": 16,
     "metadata": {},
     "output_type": "execute_result"
    },
    {
     "data": {
      "image/png": "[encoded data removed]",
      "text/plain": [
       "<Figure size 1152x576 with 1 Axes>"
      ]
     },
     "metadata": {
      "needs_background": "light"
     },
     "output_type": "display_data"
    }
   ],
   "source": [
    "raw_df['Adj Close'].plot(label='TSLA', figsize=(16,8), title='Adjusted Closing Price', grid=True)"
   ]
  },
  {
   "cell_type": "markdown",
   "metadata": {},
   "source": [
    "There's clearly been some weird sh%t going down towards the end, probably with price closures due to (to me unknown) events that prevented trading for those days and thus seems to have thrown the Adjusted Closing Price to `0`. Let's check this out in more detail."
   ]
  },
  {
   "cell_type": "code",
   "execution_count": 17,
   "metadata": {},
   "outputs": [],
   "source": [
    "nulls = raw_df[raw_df['Adj Close'] == 0]"
   ]
  },
  {
   "cell_type": "code",
   "execution_count": 18,
   "metadata": {},
   "outputs": [
    {
     "data": {
      "text/html": [
       "<div>\n",
       "<style scoped>\n",
       "    .dataframe tbody tr th:only-of-type {\n",
       "        vertical-align: middle;\n",
       "    }\n",
       "\n",
       "    .dataframe tbody tr th {\n",
       "        vertical-align: top;\n",
       "    }\n",
       "\n",
       "    .dataframe thead th {\n",
       "        text-align: right;\n",
       "    }\n",
       "</style>\n",
       "<table border=\"1\" class=\"dataframe\">\n",
       "  <thead>\n",
       "    <tr style=\"text-align: right;\">\n",
       "      <th></th>\n",
       "      <th>Open</th>\n",
       "      <th>High</th>\n",
       "      <th>Low</th>\n",
       "      <th>Close</th>\n",
       "      <th>Adj Close</th>\n",
       "      <th>Volume</th>\n",
       "    </tr>\n",
       "    <tr>\n",
       "      <th>Date</th>\n",
       "      <th></th>\n",
       "      <th></th>\n",
       "      <th></th>\n",
       "      <th></th>\n",
       "      <th></th>\n",
       "      <th></th>\n",
       "    </tr>\n",
       "  </thead>\n",
       "  <tbody>\n",
       "  </tbody>\n",
       "</table>\n",
       "</div>"
      ],
      "text/plain": [
       "Empty DataFrame\n",
       "Columns: [Open, High, Low, Close, Adj Close, Volume]\n",
       "Index: []"
      ]
     },
     "execution_count": 18,
     "metadata": {},
     "output_type": "execute_result"
    }
   ],
   "source": [
    "nulls"
   ]
  },
  {
   "cell_type": "markdown",
   "metadata": {},
   "source": [
    "Nope, nothing going all the way to 0 apparently, but these drops are significant. So let's check again, a bit more relaxed:"
   ]
  },
  {
   "cell_type": "code",
   "execution_count": 19,
   "metadata": {},
   "outputs": [],
   "source": [
    "lows = raw_df[raw_df['Adj Close'] <= 100]"
   ]
  },
  {
   "cell_type": "code",
   "execution_count": 20,
   "metadata": {},
   "outputs": [
    {
     "data": {
      "text/html": [
       "<div>\n",
       "<style scoped>\n",
       "    .dataframe tbody tr th:only-of-type {\n",
       "        vertical-align: middle;\n",
       "    }\n",
       "\n",
       "    .dataframe tbody tr th {\n",
       "        vertical-align: top;\n",
       "    }\n",
       "\n",
       "    .dataframe thead th {\n",
       "        text-align: right;\n",
       "    }\n",
       "</style>\n",
       "<table border=\"1\" class=\"dataframe\">\n",
       "  <thead>\n",
       "    <tr style=\"text-align: right;\">\n",
       "      <th></th>\n",
       "      <th>Open</th>\n",
       "      <th>High</th>\n",
       "      <th>Low</th>\n",
       "      <th>Close</th>\n",
       "      <th>Adj Close</th>\n",
       "      <th>Volume</th>\n",
       "    </tr>\n",
       "    <tr>\n",
       "      <th>Date</th>\n",
       "      <th></th>\n",
       "      <th></th>\n",
       "      <th></th>\n",
       "      <th></th>\n",
       "      <th></th>\n",
       "      <th></th>\n",
       "    </tr>\n",
       "  </thead>\n",
       "  <tbody>\n",
       "    <tr>\n",
       "      <td>2019-06-04</td>\n",
       "      <td>3.73300</td>\n",
       "      <td>3.73300</td>\n",
       "      <td>3.73300</td>\n",
       "      <td>3.73300</td>\n",
       "      <td>3.705086</td>\n",
       "      <td>0</td>\n",
       "    </tr>\n",
       "    <tr>\n",
       "      <td>2019-06-05</td>\n",
       "      <td>3.74480</td>\n",
       "      <td>3.74480</td>\n",
       "      <td>3.74480</td>\n",
       "      <td>3.74480</td>\n",
       "      <td>3.716798</td>\n",
       "      <td>0</td>\n",
       "    </tr>\n",
       "    <tr>\n",
       "      <td>2019-06-06</td>\n",
       "      <td>3.76590</td>\n",
       "      <td>3.76590</td>\n",
       "      <td>3.76590</td>\n",
       "      <td>3.76590</td>\n",
       "      <td>3.737740</td>\n",
       "      <td>0</td>\n",
       "    </tr>\n",
       "    <tr>\n",
       "      <td>2019-06-21</td>\n",
       "      <td>3.91390</td>\n",
       "      <td>3.91390</td>\n",
       "      <td>3.91390</td>\n",
       "      <td>3.91390</td>\n",
       "      <td>3.884633</td>\n",
       "      <td>0</td>\n",
       "    </tr>\n",
       "    <tr>\n",
       "      <td>2019-06-24</td>\n",
       "      <td>3.91820</td>\n",
       "      <td>3.91820</td>\n",
       "      <td>3.91820</td>\n",
       "      <td>3.91820</td>\n",
       "      <td>3.888901</td>\n",
       "      <td>0</td>\n",
       "    </tr>\n",
       "    <tr>\n",
       "      <td>2019-06-26</td>\n",
       "      <td>3.89940</td>\n",
       "      <td>3.89940</td>\n",
       "      <td>3.89940</td>\n",
       "      <td>3.89940</td>\n",
       "      <td>3.870242</td>\n",
       "      <td>0</td>\n",
       "    </tr>\n",
       "    <tr>\n",
       "      <td>2019-06-27</td>\n",
       "      <td>3.90660</td>\n",
       "      <td>3.90660</td>\n",
       "      <td>3.90660</td>\n",
       "      <td>3.90660</td>\n",
       "      <td>3.877388</td>\n",
       "      <td>0</td>\n",
       "    </tr>\n",
       "    <tr>\n",
       "      <td>2019-07-01</td>\n",
       "      <td>3.95960</td>\n",
       "      <td>3.95960</td>\n",
       "      <td>3.95960</td>\n",
       "      <td>3.95960</td>\n",
       "      <td>3.929991</td>\n",
       "      <td>0</td>\n",
       "    </tr>\n",
       "    <tr>\n",
       "      <td>2019-07-02</td>\n",
       "      <td>3.98560</td>\n",
       "      <td>3.98560</td>\n",
       "      <td>3.98560</td>\n",
       "      <td>3.98560</td>\n",
       "      <td>3.955797</td>\n",
       "      <td>0</td>\n",
       "    </tr>\n",
       "    <tr>\n",
       "      <td>2019-07-03</td>\n",
       "      <td>4.01900</td>\n",
       "      <td>4.01900</td>\n",
       "      <td>4.01900</td>\n",
       "      <td>4.01900</td>\n",
       "      <td>3.988947</td>\n",
       "      <td>0</td>\n",
       "    </tr>\n",
       "    <tr>\n",
       "      <td>2019-07-04</td>\n",
       "      <td>4.02560</td>\n",
       "      <td>4.02560</td>\n",
       "      <td>4.02560</td>\n",
       "      <td>4.02560</td>\n",
       "      <td>3.995498</td>\n",
       "      <td>0</td>\n",
       "    </tr>\n",
       "    <tr>\n",
       "      <td>2019-07-05</td>\n",
       "      <td>4.00990</td>\n",
       "      <td>4.00990</td>\n",
       "      <td>4.00990</td>\n",
       "      <td>4.00990</td>\n",
       "      <td>3.979915</td>\n",
       "      <td>0</td>\n",
       "    </tr>\n",
       "    <tr>\n",
       "      <td>2019-07-08</td>\n",
       "      <td>3.99300</td>\n",
       "      <td>3.99300</td>\n",
       "      <td>3.99300</td>\n",
       "      <td>3.99300</td>\n",
       "      <td>3.963142</td>\n",
       "      <td>0</td>\n",
       "    </tr>\n",
       "    <tr>\n",
       "      <td>2019-07-09</td>\n",
       "      <td>3.99670</td>\n",
       "      <td>3.99670</td>\n",
       "      <td>3.99670</td>\n",
       "      <td>3.99670</td>\n",
       "      <td>3.966814</td>\n",
       "      <td>0</td>\n",
       "    </tr>\n",
       "    <tr>\n",
       "      <td>2019-07-10</td>\n",
       "      <td>4.00440</td>\n",
       "      <td>4.00440</td>\n",
       "      <td>4.00440</td>\n",
       "      <td>4.00440</td>\n",
       "      <td>3.974456</td>\n",
       "      <td>0</td>\n",
       "    </tr>\n",
       "    <tr>\n",
       "      <td>2019-07-11</td>\n",
       "      <td>3.99090</td>\n",
       "      <td>3.99090</td>\n",
       "      <td>3.99090</td>\n",
       "      <td>3.99090</td>\n",
       "      <td>3.961057</td>\n",
       "      <td>0</td>\n",
       "    </tr>\n",
       "    <tr>\n",
       "      <td>2019-07-12</td>\n",
       "      <td>3.98890</td>\n",
       "      <td>3.98890</td>\n",
       "      <td>3.98890</td>\n",
       "      <td>3.98890</td>\n",
       "      <td>3.959072</td>\n",
       "      <td>0</td>\n",
       "    </tr>\n",
       "    <tr>\n",
       "      <td>2019-07-15</td>\n",
       "      <td>4.01760</td>\n",
       "      <td>4.01760</td>\n",
       "      <td>4.01760</td>\n",
       "      <td>4.01760</td>\n",
       "      <td>3.987558</td>\n",
       "      <td>0</td>\n",
       "    </tr>\n",
       "    <tr>\n",
       "      <td>2019-07-16</td>\n",
       "      <td>4.04950</td>\n",
       "      <td>4.04950</td>\n",
       "      <td>4.04950</td>\n",
       "      <td>4.04950</td>\n",
       "      <td>4.019219</td>\n",
       "      <td>0</td>\n",
       "    </tr>\n",
       "    <tr>\n",
       "      <td>2019-07-17</td>\n",
       "      <td>4.02580</td>\n",
       "      <td>4.02580</td>\n",
       "      <td>4.02580</td>\n",
       "      <td>4.02580</td>\n",
       "      <td>3.995697</td>\n",
       "      <td>0</td>\n",
       "    </tr>\n",
       "    <tr>\n",
       "      <td>2019-07-18</td>\n",
       "      <td>4.00620</td>\n",
       "      <td>4.00620</td>\n",
       "      <td>4.00620</td>\n",
       "      <td>4.00620</td>\n",
       "      <td>3.976243</td>\n",
       "      <td>0</td>\n",
       "    </tr>\n",
       "    <tr>\n",
       "      <td>2019-07-19</td>\n",
       "      <td>4.00670</td>\n",
       "      <td>4.00670</td>\n",
       "      <td>4.00670</td>\n",
       "      <td>4.00670</td>\n",
       "      <td>3.976739</td>\n",
       "      <td>0</td>\n",
       "    </tr>\n",
       "    <tr>\n",
       "      <td>2019-07-22</td>\n",
       "      <td>4.00590</td>\n",
       "      <td>4.00590</td>\n",
       "      <td>4.00590</td>\n",
       "      <td>4.00590</td>\n",
       "      <td>3.975945</td>\n",
       "      <td>0</td>\n",
       "    </tr>\n",
       "    <tr>\n",
       "      <td>2019-07-23</td>\n",
       "      <td>4.04560</td>\n",
       "      <td>4.04560</td>\n",
       "      <td>4.04560</td>\n",
       "      <td>4.04560</td>\n",
       "      <td>4.015348</td>\n",
       "      <td>0</td>\n",
       "    </tr>\n",
       "    <tr>\n",
       "      <td>2019-07-24</td>\n",
       "      <td>4.04160</td>\n",
       "      <td>4.04160</td>\n",
       "      <td>4.04160</td>\n",
       "      <td>4.04160</td>\n",
       "      <td>4.011379</td>\n",
       "      <td>0</td>\n",
       "    </tr>\n",
       "    <tr>\n",
       "      <td>2019-07-26</td>\n",
       "      <td>4.05720</td>\n",
       "      <td>4.05720</td>\n",
       "      <td>4.05720</td>\n",
       "      <td>4.05720</td>\n",
       "      <td>4.026862</td>\n",
       "      <td>0</td>\n",
       "    </tr>\n",
       "    <tr>\n",
       "      <td>2019-07-29</td>\n",
       "      <td>4.10720</td>\n",
       "      <td>4.10720</td>\n",
       "      <td>4.10720</td>\n",
       "      <td>4.10720</td>\n",
       "      <td>4.076488</td>\n",
       "      <td>0</td>\n",
       "    </tr>\n",
       "    <tr>\n",
       "      <td>2019-07-30</td>\n",
       "      <td>4.11910</td>\n",
       "      <td>4.11910</td>\n",
       "      <td>4.11910</td>\n",
       "      <td>4.11910</td>\n",
       "      <td>4.088299</td>\n",
       "      <td>0</td>\n",
       "    </tr>\n",
       "    <tr>\n",
       "      <td>2019-08-02</td>\n",
       "      <td>4.02560</td>\n",
       "      <td>4.02560</td>\n",
       "      <td>4.02560</td>\n",
       "      <td>4.02560</td>\n",
       "      <td>3.995498</td>\n",
       "      <td>0</td>\n",
       "    </tr>\n",
       "    <tr>\n",
       "      <td>2019-08-05</td>\n",
       "      <td>3.93420</td>\n",
       "      <td>3.93420</td>\n",
       "      <td>3.93420</td>\n",
       "      <td>3.93420</td>\n",
       "      <td>3.904782</td>\n",
       "      <td>0</td>\n",
       "    </tr>\n",
       "    <tr>\n",
       "      <td>2019-08-06</td>\n",
       "      <td>3.92990</td>\n",
       "      <td>3.92990</td>\n",
       "      <td>3.92990</td>\n",
       "      <td>3.92990</td>\n",
       "      <td>3.900514</td>\n",
       "      <td>0</td>\n",
       "    </tr>\n",
       "    <tr>\n",
       "      <td>2019-08-07</td>\n",
       "      <td>3.96000</td>\n",
       "      <td>3.96000</td>\n",
       "      <td>3.96000</td>\n",
       "      <td>3.96000</td>\n",
       "      <td>3.930389</td>\n",
       "      <td>0</td>\n",
       "    </tr>\n",
       "    <tr>\n",
       "      <td>2019-08-08</td>\n",
       "      <td>4.01970</td>\n",
       "      <td>4.01970</td>\n",
       "      <td>4.01970</td>\n",
       "      <td>4.01970</td>\n",
       "      <td>3.989642</td>\n",
       "      <td>0</td>\n",
       "    </tr>\n",
       "    <tr>\n",
       "      <td>2019-08-09</td>\n",
       "      <td>4.01800</td>\n",
       "      <td>4.01800</td>\n",
       "      <td>4.01800</td>\n",
       "      <td>4.01800</td>\n",
       "      <td>3.987955</td>\n",
       "      <td>0</td>\n",
       "    </tr>\n",
       "    <tr>\n",
       "      <td>2019-08-12</td>\n",
       "      <td>3.98940</td>\n",
       "      <td>3.98940</td>\n",
       "      <td>3.98940</td>\n",
       "      <td>3.98940</td>\n",
       "      <td>3.959569</td>\n",
       "      <td>0</td>\n",
       "    </tr>\n",
       "    <tr>\n",
       "      <td>2019-08-13</td>\n",
       "      <td>4.01580</td>\n",
       "      <td>4.01580</td>\n",
       "      <td>4.01580</td>\n",
       "      <td>4.01580</td>\n",
       "      <td>3.985771</td>\n",
       "      <td>0</td>\n",
       "    </tr>\n",
       "    <tr>\n",
       "      <td>2019-08-14</td>\n",
       "      <td>3.94510</td>\n",
       "      <td>3.94510</td>\n",
       "      <td>3.94510</td>\n",
       "      <td>3.94510</td>\n",
       "      <td>3.915600</td>\n",
       "      <td>0</td>\n",
       "    </tr>\n",
       "    <tr>\n",
       "      <td>2019-08-15</td>\n",
       "      <td>3.92930</td>\n",
       "      <td>3.92930</td>\n",
       "      <td>3.92930</td>\n",
       "      <td>3.92930</td>\n",
       "      <td>3.929300</td>\n",
       "      <td>0</td>\n",
       "    </tr>\n",
       "    <tr>\n",
       "      <td>2019-08-16</td>\n",
       "      <td>3.96260</td>\n",
       "      <td>3.96260</td>\n",
       "      <td>3.96260</td>\n",
       "      <td>3.96260</td>\n",
       "      <td>3.962600</td>\n",
       "      <td>0</td>\n",
       "    </tr>\n",
       "    <tr>\n",
       "      <td>2019-08-19</td>\n",
       "      <td>4.00070</td>\n",
       "      <td>4.00070</td>\n",
       "      <td>4.00070</td>\n",
       "      <td>4.00070</td>\n",
       "      <td>4.000700</td>\n",
       "      <td>0</td>\n",
       "    </tr>\n",
       "    <tr>\n",
       "      <td>2019-08-20</td>\n",
       "      <td>3.99210</td>\n",
       "      <td>3.99210</td>\n",
       "      <td>3.99210</td>\n",
       "      <td>3.99210</td>\n",
       "      <td>3.992100</td>\n",
       "      <td>0</td>\n",
       "    </tr>\n",
       "    <tr>\n",
       "      <td>2019-08-21</td>\n",
       "      <td>4.02360</td>\n",
       "      <td>4.02360</td>\n",
       "      <td>4.02360</td>\n",
       "      <td>4.02360</td>\n",
       "      <td>4.023600</td>\n",
       "      <td>0</td>\n",
       "    </tr>\n",
       "    <tr>\n",
       "      <td>2019-08-22</td>\n",
       "      <td>3.96530</td>\n",
       "      <td>3.96530</td>\n",
       "      <td>3.96530</td>\n",
       "      <td>3.96530</td>\n",
       "      <td>3.965300</td>\n",
       "      <td>0</td>\n",
       "    </tr>\n",
       "    <tr>\n",
       "      <td>2019-08-23</td>\n",
       "      <td>3.93279</td>\n",
       "      <td>3.93279</td>\n",
       "      <td>3.93279</td>\n",
       "      <td>3.93279</td>\n",
       "      <td>3.932790</td>\n",
       "      <td>0</td>\n",
       "    </tr>\n",
       "    <tr>\n",
       "      <td>2019-08-27</td>\n",
       "      <td>3.91590</td>\n",
       "      <td>3.91590</td>\n",
       "      <td>3.91590</td>\n",
       "      <td>3.91590</td>\n",
       "      <td>3.915900</td>\n",
       "      <td>0</td>\n",
       "    </tr>\n",
       "    <tr>\n",
       "      <td>2019-08-28</td>\n",
       "      <td>3.93060</td>\n",
       "      <td>3.93060</td>\n",
       "      <td>3.93060</td>\n",
       "      <td>3.93060</td>\n",
       "      <td>3.930600</td>\n",
       "      <td>0</td>\n",
       "    </tr>\n",
       "    <tr>\n",
       "      <td>2019-08-29</td>\n",
       "      <td>3.96790</td>\n",
       "      <td>3.96790</td>\n",
       "      <td>3.96790</td>\n",
       "      <td>3.96790</td>\n",
       "      <td>3.967900</td>\n",
       "      <td>0</td>\n",
       "    </tr>\n",
       "  </tbody>\n",
       "</table>\n",
       "</div>"
      ],
      "text/plain": [
       "               Open     High      Low    Close  Adj Close  Volume\n",
       "Date                                                             \n",
       "2019-06-04  3.73300  3.73300  3.73300  3.73300   3.705086       0\n",
       "2019-06-05  3.74480  3.74480  3.74480  3.74480   3.716798       0\n",
       "2019-06-06  3.76590  3.76590  3.76590  3.76590   3.737740       0\n",
       "2019-06-21  3.91390  3.91390  3.91390  3.91390   3.884633       0\n",
       "2019-06-24  3.91820  3.91820  3.91820  3.91820   3.888901       0\n",
       "2019-06-26  3.89940  3.89940  3.89940  3.89940   3.870242       0\n",
       "2019-06-27  3.90660  3.90660  3.90660  3.90660   3.877388       0\n",
       "2019-07-01  3.95960  3.95960  3.95960  3.95960   3.929991       0\n",
       "2019-07-02  3.98560  3.98560  3.98560  3.98560   3.955797       0\n",
       "2019-07-03  4.01900  4.01900  4.01900  4.01900   3.988947       0\n",
       "2019-07-04  4.02560  4.02560  4.02560  4.02560   3.995498       0\n",
       "2019-07-05  4.00990  4.00990  4.00990  4.00990   3.979915       0\n",
       "2019-07-08  3.99300  3.99300  3.99300  3.99300   3.963142       0\n",
       "2019-07-09  3.99670  3.99670  3.99670  3.99670   3.966814       0\n",
       "2019-07-10  4.00440  4.00440  4.00440  4.00440   3.974456       0\n",
       "2019-07-11  3.99090  3.99090  3.99090  3.99090   3.961057       0\n",
       "2019-07-12  3.98890  3.98890  3.98890  3.98890   3.959072       0\n",
       "2019-07-15  4.01760  4.01760  4.01760  4.01760   3.987558       0\n",
       "2019-07-16  4.04950  4.04950  4.04950  4.04950   4.019219       0\n",
       "2019-07-17  4.02580  4.02580  4.02580  4.02580   3.995697       0\n",
       "2019-07-18  4.00620  4.00620  4.00620  4.00620   3.976243       0\n",
       "2019-07-19  4.00670  4.00670  4.00670  4.00670   3.976739       0\n",
       "2019-07-22  4.00590  4.00590  4.00590  4.00590   3.975945       0\n",
       "2019-07-23  4.04560  4.04560  4.04560  4.04560   4.015348       0\n",
       "2019-07-24  4.04160  4.04160  4.04160  4.04160   4.011379       0\n",
       "2019-07-26  4.05720  4.05720  4.05720  4.05720   4.026862       0\n",
       "2019-07-29  4.10720  4.10720  4.10720  4.10720   4.076488       0\n",
       "2019-07-30  4.11910  4.11910  4.11910  4.11910   4.088299       0\n",
       "2019-08-02  4.02560  4.02560  4.02560  4.02560   3.995498       0\n",
       "2019-08-05  3.93420  3.93420  3.93420  3.93420   3.904782       0\n",
       "2019-08-06  3.92990  3.92990  3.92990  3.92990   3.900514       0\n",
       "2019-08-07  3.96000  3.96000  3.96000  3.96000   3.930389       0\n",
       "2019-08-08  4.01970  4.01970  4.01970  4.01970   3.989642       0\n",
       "2019-08-09  4.01800  4.01800  4.01800  4.01800   3.987955       0\n",
       "2019-08-12  3.98940  3.98940  3.98940  3.98940   3.959569       0\n",
       "2019-08-13  4.01580  4.01580  4.01580  4.01580   3.985771       0\n",
       "2019-08-14  3.94510  3.94510  3.94510  3.94510   3.915600       0\n",
       "2019-08-15  3.92930  3.92930  3.92930  3.92930   3.929300       0\n",
       "2019-08-16  3.96260  3.96260  3.96260  3.96260   3.962600       0\n",
       "2019-08-19  4.00070  4.00070  4.00070  4.00070   4.000700       0\n",
       "2019-08-20  3.99210  3.99210  3.99210  3.99210   3.992100       0\n",
       "2019-08-21  4.02360  4.02360  4.02360  4.02360   4.023600       0\n",
       "2019-08-22  3.96530  3.96530  3.96530  3.96530   3.965300       0\n",
       "2019-08-23  3.93279  3.93279  3.93279  3.93279   3.932790       0\n",
       "2019-08-27  3.91590  3.91590  3.91590  3.91590   3.915900       0\n",
       "2019-08-28  3.93060  3.93060  3.93060  3.93060   3.930600       0\n",
       "2019-08-29  3.96790  3.96790  3.96790  3.96790   3.967900       0"
      ]
     },
     "execution_count": 20,
     "metadata": {},
     "output_type": "execute_result"
    }
   ],
   "source": [
    "lows"
   ]
  },
  {
   "cell_type": "code",
   "execution_count": 21,
   "metadata": {},
   "outputs": [
    {
     "data": {
      "text/plain": [
       "47"
      ]
     },
     "execution_count": 21,
     "metadata": {},
     "output_type": "execute_result"
    }
   ],
   "source": [
    "len(lows)"
   ]
  },
  {
   "cell_type": "markdown",
   "metadata": {},
   "source": [
    "Clearly it seems that all of these low values have an associated trading volume of `0`. Proof:"
   ]
  },
  {
   "cell_type": "code",
   "execution_count": 22,
   "metadata": {},
   "outputs": [
    {
     "data": {
      "text/plain": [
       "True"
      ]
     },
     "execution_count": 22,
     "metadata": {},
     "output_type": "execute_result"
    }
   ],
   "source": [
    "len(lows) == len(lows[lows['Volume'] == 0])"
   ]
  },
  {
   "cell_type": "markdown",
   "metadata": {},
   "source": [
    "There are some valid reasons for the Trading Volume of a stock falling to `0` - read up more on it [here](https://pocketsense.com/causes-companys-stock-volume-zero-12080944.html).\n",
    "\n",
    "However, since they are all gathered towards the end of the time series and since this is a toy project for learning purposes that no one will ever look at seriously, I'll disregard these anomalies and limit my predictions to the time before these crazy events. :)"
   ]
  },
  {
   "cell_type": "code",
   "execution_count": 25,
   "metadata": {},
   "outputs": [],
   "source": [
    "df = raw_df[raw_df.Volume != 0]"
   ]
  },
  {
   "cell_type": "code",
   "execution_count": 26,
   "metadata": {},
   "outputs": [
    {
     "data": {
      "text/plain": [
       "<matplotlib.axes._subplots.AxesSubplot at 0x119eb2590>"
      ]
     },
     "execution_count": 26,
     "metadata": {},
     "output_type": "execute_result"
    },
    {
     "data": {
      "image/png": "[encoded data removed]",
      "text/plain": [
       "<Figure size 1152x576 with 1 Axes>"
      ]
     },
     "metadata": {
      "needs_background": "light"
     },
     "output_type": "display_data"
    }
   ],
   "source": [
    "df['Adj Close'].plot(label='TSLA', figsize=(16,8), title='Adjusted Closing Price', grid=True)"
   ]
  },
  {
   "cell_type": "markdown",
   "metadata": {},
   "source": [
    "Alright-o! Here we go, that looks more like something to work with."
   ]
  },
  {
   "cell_type": "markdown",
   "metadata": {},
   "source": [
    "## Calculating the Moving Average"
   ]
  },
  {
   "cell_type": "code",
   "execution_count": 27,
   "metadata": {},
   "outputs": [],
   "source": [
    "close_px = df['Adj Close']\n",
    "mavg = close_px.rolling(window=100).mean()"
   ]
  },
  {
   "cell_type": "code",
   "execution_count": 28,
   "metadata": {},
   "outputs": [
    {
     "data": {
      "text/plain": [
       "Date\n",
       "2014-09-02           NaN\n",
       "2014-09-03           NaN\n",
       "2014-09-04           NaN\n",
       "2014-09-05           NaN\n",
       "2014-09-08           NaN\n",
       "                 ...    \n",
       "2019-07-25    379.435355\n",
       "2019-07-31    380.130660\n",
       "2019-08-01    380.786270\n",
       "2019-08-30    381.323813\n",
       "2019-09-02    381.861585\n",
       "Name: Adj Close, Length: 1217, dtype: float64"
      ]
     },
     "execution_count": 28,
     "metadata": {},
     "output_type": "execute_result"
    }
   ],
   "source": [
    "mavg"
   ]
  },
  {
   "cell_type": "code",
   "execution_count": 36,
   "metadata": {},
   "outputs": [
    {
     "data": {
      "text/plain": [
       "<matplotlib.legend.Legend at 0x11a8eba50>"
      ]
     },
     "execution_count": 36,
     "metadata": {},
     "output_type": "execute_result"
    },
    {
     "data": {
      "image/png": "[encoded data removed]",
      "text/plain": [
       "<Figure size 432x288 with 1 Axes>"
      ]
     },
     "metadata": {
      "needs_background": "light"
     },
     "output_type": "display_data"
    }
   ],
   "source": [
    "close_px.plot(label='SCAM')\n",
    "mavg.plot(label='mavg')\n",
    "plt.legend()"
   ]
  },
  {
   "cell_type": "markdown",
   "metadata": {},
   "source": [
    "## Feature Engineering"
   ]
  },
  {
   "cell_type": "code",
   "execution_count": 39,
   "metadata": {},
   "outputs": [],
   "source": [
    "dfreg = df.loc[:,['Adj Close','Volume']]\n",
    "# (High - Low) / Closing Price\n",
    "dfreg['HL_PCT'] = (df['High'] - df['Low']) / df['Close'] * 100.0\n",
    "# (Close - Open) / Open Price\n",
    "dfreg['PCT_change'] = (df['Close'] - df['Open']) / df['Open'] * 100.0"
   ]
  },
  {
   "cell_type": "code",
   "execution_count": 40,
   "metadata": {},
   "outputs": [
    {
     "data": {
      "text/html": [
       "<div>\n",
       "<style scoped>\n",
       "    .dataframe tbody tr th:only-of-type {\n",
       "        vertical-align: middle;\n",
       "    }\n",
       "\n",
       "    .dataframe tbody tr th {\n",
       "        vertical-align: top;\n",
       "    }\n",
       "\n",
       "    .dataframe thead th {\n",
       "        text-align: right;\n",
       "    }\n",
       "</style>\n",
       "<table border=\"1\" class=\"dataframe\">\n",
       "  <thead>\n",
       "    <tr style=\"text-align: right;\">\n",
       "      <th></th>\n",
       "      <th>Adj Close</th>\n",
       "      <th>Volume</th>\n",
       "      <th>HL_PCT</th>\n",
       "      <th>PCT_change</th>\n",
       "    </tr>\n",
       "    <tr>\n",
       "      <th>Date</th>\n",
       "      <th></th>\n",
       "      <th></th>\n",
       "      <th></th>\n",
       "      <th></th>\n",
       "    </tr>\n",
       "  </thead>\n",
       "  <tbody>\n",
       "    <tr>\n",
       "      <td>2014-09-02</td>\n",
       "      <td>242.844986</td>\n",
       "      <td>105487</td>\n",
       "      <td>1.021450</td>\n",
       "      <td>0.307377</td>\n",
       "    </tr>\n",
       "    <tr>\n",
       "      <td>2014-09-03</td>\n",
       "      <td>243.093033</td>\n",
       "      <td>109929</td>\n",
       "      <td>1.182450</td>\n",
       "      <td>-0.203666</td>\n",
       "    </tr>\n",
       "    <tr>\n",
       "      <td>2014-09-04</td>\n",
       "      <td>244.581360</td>\n",
       "      <td>86113</td>\n",
       "      <td>0.974848</td>\n",
       "      <td>-0.202429</td>\n",
       "    </tr>\n",
       "    <tr>\n",
       "      <td>2014-09-05</td>\n",
       "      <td>243.341064</td>\n",
       "      <td>92304</td>\n",
       "      <td>1.291743</td>\n",
       "      <td>-0.507099</td>\n",
       "    </tr>\n",
       "    <tr>\n",
       "      <td>2014-09-08</td>\n",
       "      <td>242.596924</td>\n",
       "      <td>127314</td>\n",
       "      <td>1.022495</td>\n",
       "      <td>-1.012146</td>\n",
       "    </tr>\n",
       "  </tbody>\n",
       "</table>\n",
       "</div>"
      ],
      "text/plain": [
       "             Adj Close  Volume    HL_PCT  PCT_change\n",
       "Date                                                \n",
       "2014-09-02  242.844986  105487  1.021450    0.307377\n",
       "2014-09-03  243.093033  109929  1.182450   -0.203666\n",
       "2014-09-04  244.581360   86113  0.974848   -0.202429\n",
       "2014-09-05  243.341064   92304  1.291743   -0.507099\n",
       "2014-09-08  242.596924  127314  1.022495   -1.012146"
      ]
     },
     "execution_count": 40,
     "metadata": {},
     "output_type": "execute_result"
    }
   ],
   "source": [
    "dfreg.head()"
   ]
  },
  {
   "cell_type": "markdown",
   "metadata": {},
   "source": [
    "## Data Preparation"
   ]
  },
  {
   "cell_type": "code",
   "execution_count": 44,
   "metadata": {},
   "outputs": [],
   "source": [
    "# Drop missing value\n",
    "dfreg.fillna(value=-99999, inplace=True)\n",
    "\n",
    "# We want to separate 1 percent of the data to forecast\n",
    "forecast_out = int(math.ceil(0.01 * len(dfreg)))\n",
    "\n",
    "# Separating the label here, we want to predict the AdjClose\n",
    "forecast_col = 'Adj Close'\n",
    "dfreg['label'] = dfreg[forecast_col].shift(-forecast_out)\n",
    "X = np.array(dfreg.drop(['label'], 1))\n",
    "\n",
    "# Scale the X so that everyone can have the same distribution for linear regression\n",
    "X = sklearn.preprocessing.scale(X)\n",
    "\n",
    "# Finally We want to find Data Series of late X and early X (train) for model generation and evaluation\n",
    "X_lately = X[-forecast_out:]\n",
    "X = X[:-forecast_out]\n",
    "\n",
    "# Separate label and identify it as y\n",
    "y = np.array(dfreg['label'])\n",
    "y = y[:-forecast_out]"
   ]
  },
  {
   "cell_type": "markdown",
   "metadata": {},
   "source": [
    "## Prediction Time"
   ]
  },
  {
   "cell_type": "code",
   "execution_count": 45,
   "metadata": {},
   "outputs": [],
   "source": [
    "from sklearn.linear_model import LinearRegression\n",
    "from sklearn.neighbors import KNeighborsRegressor\n",
    "\n",
    "from sklearn.linear_model import Ridge\n",
    "from sklearn.preprocessing import PolynomialFeatures\n",
    "from sklearn.pipeline import make_pipeline"
   ]
  },
  {
   "cell_type": "code",
   "execution_count": 47,
   "metadata": {},
   "outputs": [],
   "source": [
    "# initialize test/train split\n",
    "X_train, X_test, y_train, y_test = train_test_split(X, y, test_size=0.2)"
   ]
  },
  {
   "cell_type": "code",
   "execution_count": 48,
   "metadata": {},
   "outputs": [
    {
     "data": {
      "text/plain": [
       "Pipeline(memory=None,\n",
       "         steps=[('polynomialfeatures',\n",
       "                 PolynomialFeatures(degree=3, include_bias=True,\n",
       "                                    interaction_only=False, order='C')),\n",
       "                ('ridge',\n",
       "                 Ridge(alpha=1.0, copy_X=True, fit_intercept=True,\n",
       "                       max_iter=None, normalize=False, random_state=None,\n",
       "                       solver='auto', tol=0.001))],\n",
       "         verbose=False)"
      ]
     },
     "execution_count": 48,
     "metadata": {},
     "output_type": "execute_result"
    }
   ],
   "source": [
    "# Linear regression\n",
    "clfreg = LinearRegression(n_jobs=-1)\n",
    "clfreg.fit(X_train, y_train)\n",
    "\n",
    "# Quadratic Regression 2\n",
    "clfpoly2 = make_pipeline(PolynomialFeatures(2), Ridge())\n",
    "clfpoly2.fit(X_train, y_train)\n",
    "\n",
    "# Quadratic Regression 3\n",
    "clfpoly3 = make_pipeline(PolynomialFeatures(3), Ridge())\n",
    "clfpoly3.fit(X_train, y_train)"
   ]
  },
  {
   "cell_type": "code",
   "execution_count": 49,
   "metadata": {},
   "outputs": [
    {
     "data": {
      "text/plain": [
       "KNeighborsRegressor(algorithm='auto', leaf_size=30, metric='minkowski',\n",
       "                    metric_params=None, n_jobs=None, n_neighbors=2, p=2,\n",
       "                    weights='uniform')"
      ]
     },
     "execution_count": 49,
     "metadata": {},
     "output_type": "execute_result"
    }
   ],
   "source": [
    "# KNN Regression\n",
    "clfknn = KNeighborsRegressor(n_neighbors=2)\n",
    "clfknn.fit(X_train, y_train)"
   ]
  },
  {
   "cell_type": "code",
   "execution_count": 50,
   "metadata": {},
   "outputs": [],
   "source": [
    "confidencereg = clfreg.score(X_test, y_test)\n",
    "confidencepoly2 = clfpoly2.score(X_test,y_test)\n",
    "confidencepoly3 = clfpoly3.score(X_test,y_test)\n",
    "confidenceknn = clfknn.score(X_test, y_test)"
   ]
  },
  {
   "cell_type": "code",
   "execution_count": 51,
   "metadata": {},
   "outputs": [
    {
     "name": "stdout",
     "output_type": "stream",
     "text": [
      "0.9667966024349809\n",
      "0.9668020371915979\n",
      "0.9679845363394711\n",
      "0.9327607846989684\n"
     ]
    }
   ],
   "source": [
    "print(confidencereg)\n",
    "print(confidencepoly2)\n",
    "print(confidencepoly3)\n",
    "print(confidenceknn)"
   ]
  },
  {
   "cell_type": "code",
   "execution_count": 84,
   "metadata": {},
   "outputs": [],
   "source": [
    "# change this out for the different classifiers\n",
    "clf = clfreg"
   ]
  },
  {
   "cell_type": "code",
   "execution_count": 85,
   "metadata": {
    "scrolled": true
   },
   "outputs": [],
   "source": [
    "forecast_set = clf.predict(X_lately)\n",
    "dfreg['Forecast'] = np.nan"
   ]
  },
  {
   "cell_type": "code",
   "execution_count": 87,
   "metadata": {},
   "outputs": [
    {
     "data": {
      "text/plain": [
       "Timestamp('2019-09-15 00:00:00')"
      ]
     },
     "execution_count": 87,
     "metadata": {},
     "output_type": "execute_result"
    }
   ],
   "source": [
    "last_date"
   ]
  },
  {
   "cell_type": "code",
   "execution_count": 90,
   "metadata": {},
   "outputs": [
    {
     "data": {
      "text/html": [
       "<div>\n",
       "<style scoped>\n",
       "    .dataframe tbody tr th:only-of-type {\n",
       "        vertical-align: middle;\n",
       "    }\n",
       "\n",
       "    .dataframe tbody tr th {\n",
       "        vertical-align: top;\n",
       "    }\n",
       "\n",
       "    .dataframe thead th {\n",
       "        text-align: right;\n",
       "    }\n",
       "</style>\n",
       "<table border=\"1\" class=\"dataframe\">\n",
       "  <thead>\n",
       "    <tr style=\"text-align: right;\">\n",
       "      <th></th>\n",
       "      <th>Adj Close</th>\n",
       "      <th>Volume</th>\n",
       "      <th>HL_PCT</th>\n",
       "      <th>PCT_change</th>\n",
       "      <th>label</th>\n",
       "      <th>Forecast</th>\n",
       "    </tr>\n",
       "    <tr>\n",
       "      <th>Date</th>\n",
       "      <th></th>\n",
       "      <th></th>\n",
       "      <th></th>\n",
       "      <th></th>\n",
       "      <th></th>\n",
       "      <th></th>\n",
       "    </tr>\n",
       "  </thead>\n",
       "  <tbody>\n",
       "    <tr>\n",
       "      <td>2019-06-25</td>\n",
       "      <td>400.979034</td>\n",
       "      <td>356787.0</td>\n",
       "      <td>0.990099</td>\n",
       "      <td>-0.246914</td>\n",
       "      <td>NaN</td>\n",
       "      <td>NaN</td>\n",
       "    </tr>\n",
       "    <tr>\n",
       "      <td>2019-06-28</td>\n",
       "      <td>402.964081</td>\n",
       "      <td>231109.0</td>\n",
       "      <td>0.492611</td>\n",
       "      <td>0.246914</td>\n",
       "      <td>NaN</td>\n",
       "      <td>NaN</td>\n",
       "    </tr>\n",
       "    <tr>\n",
       "      <td>2019-07-25</td>\n",
       "      <td>415.866882</td>\n",
       "      <td>100984.0</td>\n",
       "      <td>0.238663</td>\n",
       "      <td>-0.238095</td>\n",
       "      <td>NaN</td>\n",
       "      <td>NaN</td>\n",
       "    </tr>\n",
       "    <tr>\n",
       "      <td>2019-07-31</td>\n",
       "      <td>421.821991</td>\n",
       "      <td>42447.0</td>\n",
       "      <td>0.453879</td>\n",
       "      <td>-0.447167</td>\n",
       "      <td>NaN</td>\n",
       "      <td>NaN</td>\n",
       "    </tr>\n",
       "    <tr>\n",
       "      <td>2019-08-01</td>\n",
       "      <td>421.821991</td>\n",
       "      <td>108419.0</td>\n",
       "      <td>0.571763</td>\n",
       "      <td>0.472813</td>\n",
       "      <td>NaN</td>\n",
       "      <td>NaN</td>\n",
       "    </tr>\n",
       "    <tr>\n",
       "      <td>2019-08-30</td>\n",
       "      <td>412.000000</td>\n",
       "      <td>313076.0</td>\n",
       "      <td>1.538834</td>\n",
       "      <td>0.000000</td>\n",
       "      <td>NaN</td>\n",
       "      <td>NaN</td>\n",
       "    </tr>\n",
       "    <tr>\n",
       "      <td>2019-09-02</td>\n",
       "      <td>415.000000</td>\n",
       "      <td>77341.0</td>\n",
       "      <td>0.884340</td>\n",
       "      <td>0.484262</td>\n",
       "      <td>NaN</td>\n",
       "      <td>NaN</td>\n",
       "    </tr>\n",
       "    <tr>\n",
       "      <td>2019-09-03 00:00:00</td>\n",
       "      <td>NaN</td>\n",
       "      <td>NaN</td>\n",
       "      <td>NaN</td>\n",
       "      <td>NaN</td>\n",
       "      <td>NaN</td>\n",
       "      <td>NaN</td>\n",
       "    </tr>\n",
       "    <tr>\n",
       "      <td>2019-09-04 00:00:00</td>\n",
       "      <td>NaN</td>\n",
       "      <td>NaN</td>\n",
       "      <td>NaN</td>\n",
       "      <td>NaN</td>\n",
       "      <td>NaN</td>\n",
       "      <td>NaN</td>\n",
       "    </tr>\n",
       "    <tr>\n",
       "      <td>2019-09-05 00:00:00</td>\n",
       "      <td>NaN</td>\n",
       "      <td>NaN</td>\n",
       "      <td>NaN</td>\n",
       "      <td>NaN</td>\n",
       "      <td>NaN</td>\n",
       "      <td>NaN</td>\n",
       "    </tr>\n",
       "    <tr>\n",
       "      <td>2019-09-06 00:00:00</td>\n",
       "      <td>NaN</td>\n",
       "      <td>NaN</td>\n",
       "      <td>NaN</td>\n",
       "      <td>NaN</td>\n",
       "      <td>NaN</td>\n",
       "      <td>NaN</td>\n",
       "    </tr>\n",
       "    <tr>\n",
       "      <td>2019-09-07 00:00:00</td>\n",
       "      <td>NaN</td>\n",
       "      <td>NaN</td>\n",
       "      <td>NaN</td>\n",
       "      <td>NaN</td>\n",
       "      <td>NaN</td>\n",
       "      <td>NaN</td>\n",
       "    </tr>\n",
       "    <tr>\n",
       "      <td>2019-09-08 00:00:00</td>\n",
       "      <td>NaN</td>\n",
       "      <td>NaN</td>\n",
       "      <td>NaN</td>\n",
       "      <td>NaN</td>\n",
       "      <td>NaN</td>\n",
       "      <td>NaN</td>\n",
       "    </tr>\n",
       "    <tr>\n",
       "      <td>2019-09-09 00:00:00</td>\n",
       "      <td>NaN</td>\n",
       "      <td>NaN</td>\n",
       "      <td>NaN</td>\n",
       "      <td>NaN</td>\n",
       "      <td>NaN</td>\n",
       "      <td>NaN</td>\n",
       "    </tr>\n",
       "    <tr>\n",
       "      <td>2019-09-10 00:00:00</td>\n",
       "      <td>NaN</td>\n",
       "      <td>NaN</td>\n",
       "      <td>NaN</td>\n",
       "      <td>NaN</td>\n",
       "      <td>NaN</td>\n",
       "      <td>NaN</td>\n",
       "    </tr>\n",
       "    <tr>\n",
       "      <td>2019-09-11 00:00:00</td>\n",
       "      <td>NaN</td>\n",
       "      <td>NaN</td>\n",
       "      <td>NaN</td>\n",
       "      <td>NaN</td>\n",
       "      <td>NaN</td>\n",
       "      <td>NaN</td>\n",
       "    </tr>\n",
       "    <tr>\n",
       "      <td>2019-09-12 00:00:00</td>\n",
       "      <td>NaN</td>\n",
       "      <td>NaN</td>\n",
       "      <td>NaN</td>\n",
       "      <td>NaN</td>\n",
       "      <td>NaN</td>\n",
       "      <td>NaN</td>\n",
       "    </tr>\n",
       "    <tr>\n",
       "      <td>2019-09-13 00:00:00</td>\n",
       "      <td>NaN</td>\n",
       "      <td>NaN</td>\n",
       "      <td>NaN</td>\n",
       "      <td>NaN</td>\n",
       "      <td>NaN</td>\n",
       "      <td>NaN</td>\n",
       "    </tr>\n",
       "    <tr>\n",
       "      <td>2019-09-14 00:00:00</td>\n",
       "      <td>NaN</td>\n",
       "      <td>NaN</td>\n",
       "      <td>NaN</td>\n",
       "      <td>NaN</td>\n",
       "      <td>NaN</td>\n",
       "      <td>NaN</td>\n",
       "    </tr>\n",
       "    <tr>\n",
       "      <td>2019-09-15 00:00:00</td>\n",
       "      <td>NaN</td>\n",
       "      <td>NaN</td>\n",
       "      <td>NaN</td>\n",
       "      <td>NaN</td>\n",
       "      <td>NaN</td>\n",
       "      <td>NaN</td>\n",
       "    </tr>\n",
       "  </tbody>\n",
       "</table>\n",
       "</div>"
      ],
      "text/plain": [
       "                      Adj Close    Volume    HL_PCT  PCT_change  label  \\\n",
       "Date                                                                     \n",
       "2019-06-25           400.979034  356787.0  0.990099   -0.246914    NaN   \n",
       "2019-06-28           402.964081  231109.0  0.492611    0.246914    NaN   \n",
       "2019-07-25           415.866882  100984.0  0.238663   -0.238095    NaN   \n",
       "2019-07-31           421.821991   42447.0  0.453879   -0.447167    NaN   \n",
       "2019-08-01           421.821991  108419.0  0.571763    0.472813    NaN   \n",
       "2019-08-30           412.000000  313076.0  1.538834    0.000000    NaN   \n",
       "2019-09-02           415.000000   77341.0  0.884340    0.484262    NaN   \n",
       "2019-09-03 00:00:00         NaN       NaN       NaN         NaN    NaN   \n",
       "2019-09-04 00:00:00         NaN       NaN       NaN         NaN    NaN   \n",
       "2019-09-05 00:00:00         NaN       NaN       NaN         NaN    NaN   \n",
       "2019-09-06 00:00:00         NaN       NaN       NaN         NaN    NaN   \n",
       "2019-09-07 00:00:00         NaN       NaN       NaN         NaN    NaN   \n",
       "2019-09-08 00:00:00         NaN       NaN       NaN         NaN    NaN   \n",
       "2019-09-09 00:00:00         NaN       NaN       NaN         NaN    NaN   \n",
       "2019-09-10 00:00:00         NaN       NaN       NaN         NaN    NaN   \n",
       "2019-09-11 00:00:00         NaN       NaN       NaN         NaN    NaN   \n",
       "2019-09-12 00:00:00         NaN       NaN       NaN         NaN    NaN   \n",
       "2019-09-13 00:00:00         NaN       NaN       NaN         NaN    NaN   \n",
       "2019-09-14 00:00:00         NaN       NaN       NaN         NaN    NaN   \n",
       "2019-09-15 00:00:00         NaN       NaN       NaN         NaN    NaN   \n",
       "\n",
       "                     Forecast  \n",
       "Date                           \n",
       "2019-06-25                NaN  \n",
       "2019-06-28                NaN  \n",
       "2019-07-25                NaN  \n",
       "2019-07-31                NaN  \n",
       "2019-08-01                NaN  \n",
       "2019-08-30                NaN  \n",
       "2019-09-02                NaN  \n",
       "2019-09-03 00:00:00       NaN  \n",
       "2019-09-04 00:00:00       NaN  \n",
       "2019-09-05 00:00:00       NaN  \n",
       "2019-09-06 00:00:00       NaN  \n",
       "2019-09-07 00:00:00       NaN  \n",
       "2019-09-08 00:00:00       NaN  \n",
       "2019-09-09 00:00:00       NaN  \n",
       "2019-09-10 00:00:00       NaN  \n",
       "2019-09-11 00:00:00       NaN  \n",
       "2019-09-12 00:00:00       NaN  \n",
       "2019-09-13 00:00:00       NaN  \n",
       "2019-09-14 00:00:00       NaN  \n",
       "2019-09-15 00:00:00       NaN  "
      ]
     },
     "execution_count": 90,
     "metadata": {},
     "output_type": "execute_result"
    }
   ],
   "source": [
    "dfreg.tail(20)"
   ]
  },
  {
   "cell_type": "code",
   "execution_count": 105,
   "metadata": {},
   "outputs": [],
   "source": [
    "# reset df\n",
    "dfreg = dfreg[pd.notnull(dfreg['Volume'])]"
   ]
  },
  {
   "cell_type": "code",
   "execution_count": 106,
   "metadata": {},
   "outputs": [
    {
     "data": {
      "text/html": [
       "<div>\n",
       "<style scoped>\n",
       "    .dataframe tbody tr th:only-of-type {\n",
       "        vertical-align: middle;\n",
       "    }\n",
       "\n",
       "    .dataframe tbody tr th {\n",
       "        vertical-align: top;\n",
       "    }\n",
       "\n",
       "    .dataframe thead th {\n",
       "        text-align: right;\n",
       "    }\n",
       "</style>\n",
       "<table border=\"1\" class=\"dataframe\">\n",
       "  <thead>\n",
       "    <tr style=\"text-align: right;\">\n",
       "      <th></th>\n",
       "      <th>Adj Close</th>\n",
       "      <th>Volume</th>\n",
       "      <th>HL_PCT</th>\n",
       "      <th>PCT_change</th>\n",
       "      <th>label</th>\n",
       "      <th>Forecast</th>\n",
       "    </tr>\n",
       "    <tr>\n",
       "      <th>Date</th>\n",
       "      <th></th>\n",
       "      <th></th>\n",
       "      <th></th>\n",
       "      <th></th>\n",
       "      <th></th>\n",
       "      <th></th>\n",
       "    </tr>\n",
       "  </thead>\n",
       "  <tbody>\n",
       "    <tr>\n",
       "      <td>2019-07-25</td>\n",
       "      <td>415.866882</td>\n",
       "      <td>100984.0</td>\n",
       "      <td>0.238663</td>\n",
       "      <td>-0.238095</td>\n",
       "      <td>NaN</td>\n",
       "      <td>NaN</td>\n",
       "    </tr>\n",
       "    <tr>\n",
       "      <td>2019-07-31</td>\n",
       "      <td>421.821991</td>\n",
       "      <td>42447.0</td>\n",
       "      <td>0.453879</td>\n",
       "      <td>-0.447167</td>\n",
       "      <td>NaN</td>\n",
       "      <td>NaN</td>\n",
       "    </tr>\n",
       "    <tr>\n",
       "      <td>2019-08-01</td>\n",
       "      <td>421.821991</td>\n",
       "      <td>108419.0</td>\n",
       "      <td>0.571763</td>\n",
       "      <td>0.472813</td>\n",
       "      <td>NaN</td>\n",
       "      <td>NaN</td>\n",
       "    </tr>\n",
       "    <tr>\n",
       "      <td>2019-08-30</td>\n",
       "      <td>412.000000</td>\n",
       "      <td>313076.0</td>\n",
       "      <td>1.538834</td>\n",
       "      <td>0.000000</td>\n",
       "      <td>NaN</td>\n",
       "      <td>NaN</td>\n",
       "    </tr>\n",
       "    <tr>\n",
       "      <td>2019-09-02</td>\n",
       "      <td>415.000000</td>\n",
       "      <td>77341.0</td>\n",
       "      <td>0.884340</td>\n",
       "      <td>0.484262</td>\n",
       "      <td>NaN</td>\n",
       "      <td>NaN</td>\n",
       "    </tr>\n",
       "  </tbody>\n",
       "</table>\n",
       "</div>"
      ],
      "text/plain": [
       "             Adj Close    Volume    HL_PCT  PCT_change  label  Forecast\n",
       "Date                                                                   \n",
       "2019-07-25  415.866882  100984.0  0.238663   -0.238095    NaN       NaN\n",
       "2019-07-31  421.821991   42447.0  0.453879   -0.447167    NaN       NaN\n",
       "2019-08-01  421.821991  108419.0  0.571763    0.472813    NaN       NaN\n",
       "2019-08-30  412.000000  313076.0  1.538834    0.000000    NaN       NaN\n",
       "2019-09-02  415.000000   77341.0  0.884340    0.484262    NaN       NaN"
      ]
     },
     "execution_count": 106,
     "metadata": {},
     "output_type": "execute_result"
    }
   ],
   "source": [
    "dfreg.tail()"
   ]
  },
  {
   "cell_type": "code",
   "execution_count": 104,
   "metadata": {},
   "outputs": [
    {
     "data": {
      "image/png": "[encoded data removed]",
      "text/plain": [
       "<Figure size 1080x576 with 1 Axes>"
      ]
     },
     "metadata": {
      "needs_background": "light"
     },
     "output_type": "display_data"
    }
   ],
   "source": [
    "mpl.rc('figure', figsize=(15, 8))\n",
    "\n",
    "last_date = dfreg.iloc[-1].name\n",
    "last_unix = datetime.datetime.strptime(last_date, \"%Y-%m-%d\")\n",
    "next_unix = last_unix + datetime.timedelta(days=1)\n",
    "\n",
    "for i in forecast_set:\n",
    "    next_date = next_unix\n",
    "    next_unix += datetime.timedelta(days=1)\n",
    "    dfreg.loc[next_date] = [np.nan for _ in range(len(dfreg.columns)-1)]+[i]\n",
    "\n",
    "dfreg['Adj Close'].tail(500).plot()\n",
    "dfreg['Forecast'].tail(500).plot()\n",
    "plt.legend(loc=4)\n",
    "plt.xlabel('Date')\n",
    "plt.ylabel('Price')\n",
    "plt.show()"
   ]
  },
  {
   "cell_type": "code",
   "execution_count": 107,
   "metadata": {},
   "outputs": [],
   "source": [
    "def plot_prediction(clf, df):\n",
    "    mpl.rc('figure', figsize=(15, 8))\n",
    "    \n",
    "    # make a df copy\n",
    "    dfreg = df.copy()\n",
    "    forecast_set = clf.predict(X_lately)\n",
    "    dfreg['Forecast'] = np.nan\n",
    "    \n",
    "    last_date = dfreg.iloc[-1].name\n",
    "    last_unix = datetime.datetime.strptime(last_date, \"%Y-%m-%d\")\n",
    "    next_unix = last_unix + datetime.timedelta(days=1)\n",
    "\n",
    "    for i in forecast_set:\n",
    "        next_date = next_unix\n",
    "        next_unix += datetime.timedelta(days=1)\n",
    "        dfreg.loc[next_date] = [np.nan for _ in range(len(dfreg.columns)-1)]+[i]\n",
    "\n",
    "    dfreg['Adj Close'].tail(500).plot()\n",
    "    dfreg['Forecast'].tail(500).plot()\n",
    "    plt.legend(loc=4)\n",
    "    plt.xlabel('Date')\n",
    "    plt.ylabel('Price')\n",
    "    plt.show()"
   ]
  },
  {
   "cell_type": "code",
   "execution_count": null,
   "metadata": {},
   "outputs": [],
   "source": [
    "plot_prediction(clfreg)"
   ]
  }
 ],
 "metadata": {
  "kernelspec": {
   "display_name": "Python 3",
   "language": "python",
   "name": "python3"
  },
  "language_info": {
   "codemirror_mode": {
    "name": "ipython",
    "version": 3
   },
   "file_extension": ".py",
   "mimetype": "text/x-python",
   "name": "python",
   "nbconvert_exporter": "python",
   "pygments_lexer": "ipython3",
   "version": "3.7.4"
  },
  "varInspector": {
   "cols": {
    "lenName": 16,
    "lenType": 16,
    "lenVar": 40
   },
   "kernels_config": {
    "python": {
     "delete_cmd_postfix": "",
     "delete_cmd_prefix": "del ",
     "library": "var_list.py",
     "varRefreshCmd": "print(var_dic_list())"
    },
    "r": {
     "delete_cmd_postfix": ") ",
     "delete_cmd_prefix": "rm(",
     "library": "var_list.r",
     "varRefreshCmd": "cat(var_dic_list()) "
    }
   },
   "types_to_exclude": [
    "module",
    "function",
    "builtin_function_or_method",
    "instance",
    "_Feature"
   ],
   "window_display": false
  }
 },
 "nbformat": 4,
 "nbformat_minor": 2
}
